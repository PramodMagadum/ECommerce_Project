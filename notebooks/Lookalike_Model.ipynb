{
 "cells": [
  {
   "cell_type": "code",
   "execution_count": 1,
   "metadata": {},
   "outputs": [],
   "source": [
    "# Lookalike_Model.ipynb - Lookalike Model for Similar Customers\n",
    "\n",
    "# Import necessary libraries\n",
    "import pandas as pd\n",
    "import numpy as np\n",
    "from sklearn.preprocessing import StandardScaler\n",
    "from sklearn.metrics.pairwise import cosine_similarity\n",
    "\n",
    "# Load datasets\n",
    "customers = pd.read_csv('../data/Customers.csv')\n",
    "products = pd.read_csv('../data/Products.csv')\n",
    "transactions = pd.read_csv('../data/Transactions.csv')\n",
    "\n",
    "# Merge datasets\n",
    "df = transactions.merge(customers, on='CustomerID', how='left') \\\n",
    "               .merge(products, on='ProductID', how='left')\n",
    "\n",
    "# Feature engineering\n",
    "customer_features = df.groupby('CustomerID').agg({\n",
    "    'TotalValue': 'sum',\n",
    "    'TransactionID': 'nunique',\n",
    "    'Quantity': 'sum'\n",
    "}).reset_index()\n",
    "\n",
    "# Normalize data using StandardScaler\n",
    "scaler = StandardScaler()\n",
    "scaled_features = scaler.fit_transform(customer_features.iloc[:, 1:])\n",
    "\n",
    "# Compute similarity matrix\n",
    "similarity_matrix = cosine_similarity(scaled_features)\n",
    "similarity_df = pd.DataFrame(similarity_matrix, index=customer_features['CustomerID'], columns=customer_features['CustomerID'])\n",
    "\n",
    "# Recommend top 3 similar customers for first 20 customers\n",
    "lookalikes = {}\n",
    "for customer in customer_features['CustomerID'][:20]:\n",
    "    similar_customers = similarity_df[customer].sort_values(ascending=False).iloc[1:4]\n",
    "    lookalikes[customer] = list(zip(similar_customers.index, similar_customers.values))\n",
    "\n",
    "# Convert results to DataFrame\n",
    "lookalike_df = pd.DataFrame.from_dict(lookalikes, orient='index', columns=['Lookalike1', 'Lookalike2', 'Lookalike3'])\n",
    "lookalike_df.index.name = 'CustomerID'\n",
    "\n",
    "# Save results to CSV\n",
    "lookalike_df.to_csv('../outputs/FirstName_LastName_Lookalike.csv')\n"
   ]
  }
 ],
 "metadata": {
  "kernelspec": {
   "display_name": "venv",
   "language": "python",
   "name": "python3"
  },
  "language_info": {
   "codemirror_mode": {
    "name": "ipython",
    "version": 3
   },
   "file_extension": ".py",
   "mimetype": "text/x-python",
   "name": "python",
   "nbconvert_exporter": "python",
   "pygments_lexer": "ipython3",
   "version": "3.13.1"
  }
 },
 "nbformat": 4,
 "nbformat_minor": 2
}
